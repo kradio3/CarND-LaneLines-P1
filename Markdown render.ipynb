{
 "cells": [
  {
   "cell_type": "code",
   "execution_count": 56,
   "metadata": {
    "scrolled": false
   },
   "outputs": [
    {
     "data": {
      "text/markdown": [
       "# **Finding Lane Lines on the Road** \n",
       "\n",
       "## Writeup\n",
       "\n",
       "---\n",
       "\n",
       "**Finding Lane Lines on the Road**\n",
       "\n",
       "The goals / steps of this project are the following:\n",
       "* Make a pipeline that finds lane lines on the road\n",
       "* Reflect on your work in a written report\n",
       "\n",
       "\n",
       "[//]: # (Image References)\n",
       "\n",
       "[canny]: ./writeup_images/canny.png \"Canny over saturation\"\n",
       "[roi]: ./writeup_images/roi.png \"Region of interest\"\n",
       "[hough_lines]: ./writeup_images/hough_lines.png \"Hough lines\"\n",
       "[ruler]: ./writeup_images/rulers.png \"Extrapolated rulers\"\n",
       "[homography]: ./writeup_images/homography.png \"Homography\"\n",
       "[running_means]: ./writeup_images/running_means.png \"Running means\"\n",
       "\n",
       "---\n",
       "\n",
       "### Reflection\n",
       "\n",
       "### 1. Pipeline description\n",
       "\n",
       "My pipeline consisted of these steps:\n",
       "\n",
       "#### 1. Convert images to HLS color model.\n",
       "#### 2. Apply 'Canny' algorithm for saturation channel.\n",
       "Goal is to detect lines on images with different brightness or images with shadows.\n",
       "![alt text][canny]\n",
       "#### 3. Region of interest. Select edges only in defined trapezoidal region.\n",
       "![alt text][roi]\n",
       "#### 4. Hough lines. Detect lines in ROI and suppress noised lines by threshold.\n",
       "![alt text][hough_lines]\n",
       "#### 5. Extrapolate hough lines and draw rulers. \n",
       "![alt text][ruler]\n",
       "In order to draw a single line on the left and right lanes, I modified the draw_lines() in following way:\n",
       "  - Calculate tangents for each hough line\n",
       "  - Separate lines by tangents to left and right candidates\n",
       "  - Draw candidates on binary image\n",
       "  - Find coords of white points on binary image by ```np.nonzero()```\n",
       "  - Apply polynomial regression for these coordinates by ```np.polyfit(x, y, degree)```. \n",
       "Now i have parameters ```m``` and ```b``` for line equation ```y=mx+b```\n",
       "  - Draw each line by found equation\n",
       "\n",
       "### 2. Potential shortcomings\n",
       "- Cars with yellow or white colors appears in ROI\n",
       "- Road turns in sharp angle\n",
       "- Snow on the road\n",
       "- Signs drawn on the road\n",
       "\n",
       "### 3. Possible improvements of pipeline\n",
       "\n",
       "- Stabilize slope and bias of found rulers by running means. You can see that running mean even with 5 last frames cuts off noisy peaks.\n",
       "![alt text][running_means]\n",
       "\n",
       "- Canny algorithm detects edges by 2 Sobel's operators: one for vertical edges, second for horizontal edges. Possible improvement would be to extend it to detect sloping edges. Similar techniques widely used in convolution layers of neural nets.\n",
       "\n",
       "- Canny algorithm takes 2-D picture as input. Possible improvements would be to analyze RGB (or HLS) channels simultaneously by 3-D version of Sobel's operator\n",
       "\n",
       "- We know shape of lane line: rectangle. Don't find edges - find rectangles. Possible solution is to draw yellow and white rectangles, apply homography transformation for these rectangles: with different angles, different scales. And find positions of these transformed rectangles on the picture by cross correlation algorithm.\n",
       "\n",
       "- The opposite way is to rectify whole image from camera by homography transformation. Find short lane lines by simple algorithm, we know they are parallel (in most of cases :) ). Now we have at least 4 points to rectify plane along these lane lines. Then find rectangles by cross corellation in rectified plane to have more precise location of lane lines.\n",
       "![alt text][homography]\n"
      ],
      "text/plain": [
       "<IPython.core.display.Markdown object>"
      ]
     },
     "metadata": {},
     "output_type": "display_data"
    }
   ],
   "source": [
    "\n",
    "from IPython.display import display, Markdown\n",
    "\n",
    "with open('writeup.md', 'r') as fh:\n",
    "    content = fh.read()\n",
    "\n",
    "display(Markdown(content))"
   ]
  },
  {
   "cell_type": "code",
   "execution_count": null,
   "metadata": {
    "collapsed": true
   },
   "outputs": [],
   "source": []
  }
 ],
 "metadata": {
  "kernelspec": {
   "display_name": "Python 3",
   "language": "python",
   "name": "python3"
  },
  "language_info": {
   "codemirror_mode": {
    "name": "ipython",
    "version": 3
   },
   "file_extension": ".py",
   "mimetype": "text/x-python",
   "name": "python",
   "nbconvert_exporter": "python",
   "pygments_lexer": "ipython3",
   "version": "3.5.2"
  },
  "widgets": {
   "state": {},
   "version": "1.1.2"
  }
 },
 "nbformat": 4,
 "nbformat_minor": 2
}
